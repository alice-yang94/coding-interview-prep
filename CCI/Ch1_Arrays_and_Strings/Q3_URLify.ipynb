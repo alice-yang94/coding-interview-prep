{
 "cells": [
  {
   "cell_type": "markdown",
   "metadata": {},
   "source": [
    "## Q1.3 URLify\n",
    "\n",
    "Replace all spaces in string s with '%20'\n",
    "\n",
    "Input: \n",
    "string s\n",
    "\n",
    "\n",
    "Return: \n",
    "modified string s"
   ]
  },
  {
   "cell_type": "code",
   "execution_count": 2,
   "metadata": {},
   "outputs": [],
   "source": [
    "# 1. python replace\n",
    "\n",
    "def URLify1(s):\n",
    "    \"\"\"\n",
    "    space O(n)   create a new string\n",
    "    time O(n)\n",
    "    \"\"\"\n",
    "    return s.replace(' ', '%20')"
   ]
  },
  {
   "cell_type": "code",
   "execution_count": null,
   "metadata": {},
   "outputs": [],
   "source": [
    "# 2. inplace\n",
    "\n",
    "def URLify2(s):\n",
    "    \"\"\"\n",
    "    assume s is a char array\n",
    "    \"\"\""
   ]
  },
  {
   "cell_type": "code",
   "execution_count": 5,
   "metadata": {},
   "outputs": [
    {
     "name": "stdout",
     "output_type": "stream",
     "text": [
      "True\n",
      "True\n",
      "True\n"
     ]
    }
   ],
   "source": [
    "# Testcases\n",
    "\n",
    "def URLify(s1):\n",
    "    return URLify1(s1)\n",
    "\n",
    "s1 = \"\"\n",
    "s2 = \"a d e\"\n",
    "s22 = \"a%20d%20e\"\n",
    "s3 = \"abd\"\n",
    "s33 = \"abd\"\n",
    "print(URLify(s1) == s1)\n",
    "print(URLify(s2) == s22)\n",
    "print(URLify(s3) == s33)"
   ]
  },
  {
   "cell_type": "code",
   "execution_count": null,
   "metadata": {},
   "outputs": [],
   "source": []
  }
 ],
 "metadata": {
  "kernelspec": {
   "display_name": "Python 3",
   "language": "python",
   "name": "python3"
  },
  "language_info": {
   "codemirror_mode": {
    "name": "ipython",
    "version": 3
   },
   "file_extension": ".py",
   "mimetype": "text/x-python",
   "name": "python",
   "nbconvert_exporter": "python",
   "pygments_lexer": "ipython3",
   "version": "3.7.1"
  }
 },
 "nbformat": 4,
 "nbformat_minor": 2
}

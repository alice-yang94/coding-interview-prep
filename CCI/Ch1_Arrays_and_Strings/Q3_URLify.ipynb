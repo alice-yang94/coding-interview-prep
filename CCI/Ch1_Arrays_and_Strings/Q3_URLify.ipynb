{
 "cells": [
  {
   "cell_type": "markdown",
   "metadata": {},
   "source": [
    "## Q1.3 URLify\n",
    "\n",
    "Replace all spaces in string s with '%20'\n",
    "\n",
    "Input: \n",
    "string s\n",
    "\n",
    "\n",
    "Return: \n",
    "modified string s"
   ]
  },
  {
   "cell_type": "code",
   "execution_count": 2,
   "metadata": {},
   "outputs": [],
   "source": [
    "# 1. python replace\n",
    "\n",
    "def URLify1(s):\n",
    "    \"\"\"\n",
    "    space O(n)   create a new string\n",
    "    time O(n)\n",
    "    \"\"\"\n",
    "    return s.replace(' ', '%20')"
   ]
  },
  {
   "cell_type": "code",
   "execution_count": 4,
   "metadata": {},
   "outputs": [],
   "source": [
    "# 2. inplace\n",
    "\n",
    "def URLify2(s):\n",
    "    \"\"\"\n",
    "    assume s is a char array, pad spaces, and traverse from last to first, use two pointers to fill\n",
    "    - one pointer for real string\n",
    "    - one pointer for padded string\n",
    "    \n",
    "    space O(1)  here we use char array to simulate a mutable string\n",
    "    time O(n)\n",
    "    \"\"\"\n",
    "    \n",
    "    char_arr = [c for c in s]\n",
    "    n = len(s)\n",
    "    \n",
    "    # count spaces\n",
    "    spaces = 0\n",
    "    for c in char_arr:\n",
    "        if c == ' ':\n",
    "            spaces += 1\n",
    "        \n",
    "    # pad required spaces to array\n",
    "    space_to_pad = spaces*2\n",
    "    for i in range(space_to_pad):\n",
    "        char_arr.append(' ')\n",
    "    \n",
    "    # back traverse the array to fill '%20' inplace\n",
    "    i = n-1             # true last idx\n",
    "    j = len(char_arr)-1 # padded last idx\n",
    "    \n",
    "    while i < j and i >= 0:\n",
    "        if char_arr[i] != ' ':\n",
    "            # fill idx j with char_arr[i], both move 1 space left\n",
    "            char_arr[j] = char_arr[i]\n",
    "            j -= 1\n",
    "            i -= 1\n",
    "        else:\n",
    "            char_arr[(j-2):(j+1)] = ['%','2','0']\n",
    "            j -= 3\n",
    "            i -= 1\n",
    "            \n",
    "    return ''.join(char_arr)\n"
   ]
  },
  {
   "cell_type": "code",
   "execution_count": 5,
   "metadata": {},
   "outputs": [
    {
     "name": "stdout",
     "output_type": "stream",
     "text": [
      "True\n",
      "True\n",
      "True\n"
     ]
    }
   ],
   "source": [
    "# Testcases\n",
    "\n",
    "def URLify(s1):\n",
    "    return URLify2(s1)\n",
    "\n",
    "s1 = \"\"\n",
    "s2 = \"a d e\"\n",
    "s22 = \"a%20d%20e\"\n",
    "s3 = \"abd\"\n",
    "s33 = \"abd\"\n",
    "print(URLify(s1) == s1)\n",
    "print(URLify(s2) == s22)\n",
    "print(URLify(s3) == s33)"
   ]
  },
  {
   "cell_type": "code",
   "execution_count": null,
   "metadata": {},
   "outputs": [],
   "source": []
  }
 ],
 "metadata": {
  "kernelspec": {
   "display_name": "Python 3",
   "language": "python",
   "name": "python3"
  },
  "language_info": {
   "codemirror_mode": {
    "name": "ipython",
    "version": 3
   },
   "file_extension": ".py",
   "mimetype": "text/x-python",
   "name": "python",
   "nbconvert_exporter": "python",
   "pygments_lexer": "ipython3",
   "version": "3.7.1"
  }
 },
 "nbformat": 4,
 "nbformat_minor": 2
}

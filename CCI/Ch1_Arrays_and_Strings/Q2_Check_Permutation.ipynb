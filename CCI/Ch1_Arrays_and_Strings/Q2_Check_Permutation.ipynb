{
 "cells": [
  {
   "cell_type": "markdown",
   "metadata": {},
   "source": [
    "## Q1.2 CheckPermutation\n",
    "\n",
    "Identify if a string is a permutation of another\n",
    "\n",
    "Input: \n",
    "- string1 s1\n",
    "- string2 s2\n",
    "\n",
    "Return: bool"
   ]
  },
  {
   "cell_type": "code",
   "execution_count": 1,
   "metadata": {},
   "outputs": [],
   "source": [
    "\"\"\"\n",
    "Assumption:\n",
    "- All ascii chars can appear.\n",
    "- Do not need to remove any special chars.\n",
    "- Case sensitive.\n",
    "\n",
    "Permutation def:\n",
    "1. same length\n",
    "2. same charset and count\n",
    "\n",
    "Idea:\n",
    "1. Hashmap: space O(n)\n",
    "2. Array of 128, repr each char, space O(1)\n",
    "\"\"\"\n",
    "\n",
    "def isPermutation1(s1, s2):\n",
    "    \"\"\"\n",
    "    create an array of size 128, \n",
    "    for each char in s1 count++, each char in s2 count--\n",
    "    \n",
    "    space O(1)\n",
    "    time O(n)\n",
    "    \"\"\"\n",
    "    if len(s1) != len(s2):\n",
    "        return False\n",
    "    \n",
    "    char_arr = [0]*128\n",
    "    for c1 in s1:\n",
    "        c1_ascii = ord(c1)\n",
    "        char_arr[c1_ascii] += 1\n",
    "    \n",
    "    for c2 in s2:\n",
    "        c2_ascii = ord(c2)\n",
    "        char_arr[c2_ascii] -= 1\n",
    "        \n",
    "    for count in char_arr:\n",
    "        if count != 0:\n",
    "            return False\n",
    "    \n",
    "    return True"
   ]
  },
  {
   "cell_type": "code",
   "execution_count": 3,
   "metadata": {},
   "outputs": [
    {
     "name": "stdout",
     "output_type": "stream",
     "text": [
      "True\n",
      "True\n",
      "True\n",
      "True\n"
     ]
    }
   ],
   "source": [
    "# Testcases\n",
    "\n",
    "def isPermutation(s1,s2):\n",
    "    return isPermutation1(s1,s2)\n",
    "\n",
    "s1 = \"\"\n",
    "s2 = \"abbde\"\n",
    "s3 = \"abbed\"\n",
    "s4 = \"abbbb\"\n",
    "s5 = \"abbdedede\"\n",
    "print(isPermutation(s1,s1) == True)\n",
    "print(isPermutation(s2,s3) == True)\n",
    "print(isPermutation(s3,s4) == False)\n",
    "print(isPermutation(s4,s5) == False)"
   ]
  },
  {
   "cell_type": "code",
   "execution_count": null,
   "metadata": {},
   "outputs": [],
   "source": []
  }
 ],
 "metadata": {
  "kernelspec": {
   "display_name": "Python 3",
   "language": "python",
   "name": "python3"
  },
  "language_info": {
   "codemirror_mode": {
    "name": "ipython",
    "version": 3
   },
   "file_extension": ".py",
   "mimetype": "text/x-python",
   "name": "python",
   "nbconvert_exporter": "python",
   "pygments_lexer": "ipython3",
   "version": "3.7.1"
  }
 },
 "nbformat": 4,
 "nbformat_minor": 2
}

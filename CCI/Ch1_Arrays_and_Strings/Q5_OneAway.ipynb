{
 "cells": [
  {
   "cell_type": "markdown",
   "metadata": {},
   "source": [
    "## Q1.5 OneAway\n",
    "\n",
    "If a string is one or zero edit away from another: insert/remove/replace\n",
    "\n",
    "Input: \n",
    "- string s1\n",
    "- string s2\n",
    "\n",
    "Return: \n",
    "bool"
   ]
  },
  {
   "cell_type": "code",
   "execution_count": 2,
   "metadata": {},
   "outputs": [],
   "source": [
    "# 1.\n",
    "\n",
    "def OneAway1(s1,s2):\n",
    "    \"\"\"\n",
    "    space O(n)   \n",
    "    time O(n)\n",
    "    \"\"\"\n",
    "    "
   ]
  },
  {
   "cell_type": "code",
   "execution_count": 4,
   "metadata": {},
   "outputs": [],
   "source": [
    "# 2. \n",
    "\n",
    "def OneAway2(s1,s2):\n",
    "    \"\"\"\n",
    "\n",
    "    \n",
    "    space O(1) \n",
    "    time O(n)\n",
    "    \"\"\"\n",
    "\n"
   ]
  },
  {
   "cell_type": "code",
   "execution_count": 5,
   "metadata": {},
   "outputs": [
    {
     "name": "stdout",
     "output_type": "stream",
     "text": [
      "True\n",
      "True\n",
      "True\n"
     ]
    }
   ],
   "source": [
    "# Testcases\n",
    "\n",
    "def OneAway(s1,s2):\n",
    "    return OneAway1(s1,s2)\n",
    "\n",
    "s1 = \"\"\n",
    "s2 = \"a\"\n",
    "s3 = \"abbed\"\n",
    "s4 = \"abbbb\"\n",
    "s5 = \"abbee\"\n",
    "print(isPermutation(s1,s1) == True)\n",
    "print(isPermutation(s1,s2) == True)\n",
    "print(isPermutation(s2,s3) == False)\n",
    "print(isPermutation(s3,s4) == False)\n",
    "print(isPermutation(s3,s5) == True)"
   ]
  },
  {
   "cell_type": "code",
   "execution_count": null,
   "metadata": {},
   "outputs": [],
   "source": []
  }
 ],
 "metadata": {
  "kernelspec": {
   "display_name": "Python 3",
   "language": "python",
   "name": "python3"
  },
  "language_info": {
   "codemirror_mode": {
    "name": "ipython",
    "version": 3
   },
   "file_extension": ".py",
   "mimetype": "text/x-python",
   "name": "python",
   "nbconvert_exporter": "python",
   "pygments_lexer": "ipython3",
   "version": "3.7.1"
  }
 },
 "nbformat": 4,
 "nbformat_minor": 2
}

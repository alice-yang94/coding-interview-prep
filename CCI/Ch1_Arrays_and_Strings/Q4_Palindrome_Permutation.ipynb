{
 "cells": [
  {
   "cell_type": "markdown",
   "metadata": {},
   "source": [
    "## Q1.4 Palindrome_Permutation\n",
    "\n",
    "If the input string s is a permutation of palindrome\n",
    "\n",
    "Input: \n",
    "string s\n",
    "\n",
    "\n",
    "Return: \n",
    "bool"
   ]
  },
  {
   "cell_type": "code",
   "execution_count": 3,
   "metadata": {},
   "outputs": [],
   "source": [
    "\"\"\"\n",
    "Palindrome characteristics:\n",
    "\n",
    "1. even counts of all chars\n",
    "2. or at most 1 odd count of a char\n",
    "\n",
    "Ideas:\n",
    "\n",
    "1. hashmap to count\n",
    "2. better: 26 alphabetical letters -> array of 26 int to record count\n",
    "\n",
    "Assumption:\n",
    "\n",
    "All chars are lowercased\n",
    "\"\"\"  \n",
    "\n",
    "def isPalindrome(s):\n",
    "    \"\"\"\n",
    "    space O(1)   \n",
    "    time O(n)\n",
    "    \"\"\"\n",
    "    # count letters\n",
    "    letter_counts = [0]*26\n",
    "    for c in s:\n",
    "        c_idx = ord(c) - ord('a')\n",
    "        letter_counts[c_idx] += 1\n",
    "    \n",
    "    # found if odd count > 1\n",
    "    found_odd = False\n",
    "    for count in letter_counts:\n",
    "        if count%2 == 1:\n",
    "            if found_odd:\n",
    "                return False\n",
    "            found_odd = True\n",
    "    \n",
    "    return True\n",
    "    "
   ]
  },
  {
   "cell_type": "code",
   "execution_count": 5,
   "metadata": {},
   "outputs": [
    {
     "name": "stdout",
     "output_type": "stream",
     "text": [
      "True\n",
      "True\n",
      "True\n",
      "True\n"
     ]
    }
   ],
   "source": [
    "# Testcases\n",
    "\n",
    "s1 = \"abcde\"\n",
    "s2 = \"abcba\"\n",
    "s3 = \"aaaaa\"\n",
    "\n",
    "print(isPalindrome(s1) == False)\n",
    "print(isPalindrome(s2) == True)\n",
    "print(isPalindrome(s3) == True)\n",
    "print(isPalindrome(\"\") == True)"
   ]
  },
  {
   "cell_type": "code",
   "execution_count": null,
   "metadata": {},
   "outputs": [],
   "source": []
  }
 ],
 "metadata": {
  "kernelspec": {
   "display_name": "Python 3",
   "language": "python",
   "name": "python3"
  },
  "language_info": {
   "codemirror_mode": {
    "name": "ipython",
    "version": 3
   },
   "file_extension": ".py",
   "mimetype": "text/x-python",
   "name": "python",
   "nbconvert_exporter": "python",
   "pygments_lexer": "ipython3",
   "version": "3.7.1"
  }
 },
 "nbformat": 4,
 "nbformat_minor": 2
}

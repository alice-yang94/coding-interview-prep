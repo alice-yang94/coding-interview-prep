{
 "cells": [
  {
   "cell_type": "markdown",
   "metadata": {},
   "source": [
    "## Q1.6 String Compression\n",
    "\n",
    "Given a string s, compress the string by counting the chars\n",
    "e.g. \n",
    "- aaabc -> minlen(a3b1c1, aaabc) -> aaabc\n",
    "- aaabbb -> minlen(a3b3, aaabbb) -> a3b3\n",
    "\n",
    "Input: \n",
    "string s\n",
    "\n",
    "Return: \n",
    "string s' (compressed or original)"
   ]
  },
  {
   "cell_type": "code",
   "execution_count": 15,
   "metadata": {},
   "outputs": [],
   "source": [
    "\"\"\" \n",
    "Iterate through the string and count, store result in a char ARRRAY\n",
    "\n",
    "Note:\n",
    "Store the compressed result in a string causes O(n^2) time complexity \n",
    "because string is immutable,\n",
    "each append/+= operation creates a new string and copies everything!\n",
    "\"\"\"\n",
    "def compress(s):\n",
    "    \"\"\"\n",
    "    space O(n)   \n",
    "    time O(n)\n",
    "    \"\"\"\n",
    "    compressed = []\n",
    "    count = 0\n",
    "    for i,c in enumerate(s):\n",
    "        if i == 0:\n",
    "            compressed.append(c)\n",
    "            count += 1\n",
    "        elif c == s[i-1]:\n",
    "            count += 1\n",
    "        else:\n",
    "            compressed.append(str(count))\n",
    "            count = 1\n",
    "            compressed.append(c)\n",
    "            \n",
    "    # add last\n",
    "    if count > 0:\n",
    "        compressed.append(str(count))\n",
    "    \n",
    "    # compare length\n",
    "    if len(compressed) < len(s):\n",
    "        return ''.join(compressed)\n",
    "    return s    "
   ]
  },
  {
   "cell_type": "code",
   "execution_count": 16,
   "metadata": {},
   "outputs": [
    {
     "name": "stdout",
     "output_type": "stream",
     "text": [
      "True\n",
      "True\n",
      "True\n"
     ]
    }
   ],
   "source": [
    "# Testcases\n",
    "\n",
    "s1 = \"\"\n",
    "s2 = \"a\"\n",
    "s3 = \"abbeeee\"\n",
    "\n",
    "print(compress(s1) == \"\")\n",
    "print(compress(s2) == \"a\")\n",
    "print(compress(s3) == \"a1b2e4\")"
   ]
  },
  {
   "cell_type": "code",
   "execution_count": null,
   "metadata": {},
   "outputs": [],
   "source": []
  }
 ],
 "metadata": {
  "kernelspec": {
   "display_name": "Python 3",
   "language": "python",
   "name": "python3"
  },
  "language_info": {
   "codemirror_mode": {
    "name": "ipython",
    "version": 3
   },
   "file_extension": ".py",
   "mimetype": "text/x-python",
   "name": "python",
   "nbconvert_exporter": "python",
   "pygments_lexer": "ipython3",
   "version": "3.7.1"
  }
 },
 "nbformat": 4,
 "nbformat_minor": 2
}

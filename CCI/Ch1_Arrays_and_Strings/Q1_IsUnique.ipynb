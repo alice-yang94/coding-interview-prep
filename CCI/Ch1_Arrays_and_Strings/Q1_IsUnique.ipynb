{
 "cells": [
  {
   "cell_type": "markdown",
   "metadata": {},
   "source": [
    "## Q1.1 IsUnique\n",
    "\n",
    "Identify if all chars in a string is unique \n",
    "\n",
    "Input: string s\n",
    "\n",
    "Return: bool"
   ]
  },
  {
   "cell_type": "code",
   "execution_count": 1,
   "metadata": {},
   "outputs": [],
   "source": [
    "# 1. No additional data structure\n",
    "\n",
    "def isunique1(s):\n",
    "    \"\"\"\n",
    "    brute force\n",
    "    compare each char with following chars\n",
    "    \n",
    "    space O(1)\n",
    "    time O(n^2)\n",
    "    \"\"\"\n",
    "    \n",
    "    for i,c in enumerate(s[:-1]):\n",
    "        if c in s[(i+1):]:        #(n-1)+(n-2)+...+2+1 => O(n^2)\n",
    "            return False\n",
    "    return True\n",
    "    "
   ]
  },
  {
   "cell_type": "code",
   "execution_count": 6,
   "metadata": {},
   "outputs": [],
   "source": [
    "# 2. if allowed to modify string s\n",
    "# Since python string is immutable, take s as an array of chars\n",
    "\n",
    "def isunique2(s):\n",
    "    \"\"\"\n",
    "    sort and compare next\n",
    "    \n",
    "    space O(1)\n",
    "    time O(nlog(n))\n",
    "    \"\"\"\n",
    "    # assume char_arr is the input, does not count as extra space\n",
    "    char_arr = [c for c in s] \n",
    "    \n",
    "    if len(char_arr) <= 1:\n",
    "        return True\n",
    "    char_arr.sort()\n",
    "    for i,c in enumerate(char_arr[:-1]):\n",
    "        if c==s[i+1]:\n",
    "            return False\n",
    "    return True\n",
    "    "
   ]
  },
  {
   "cell_type": "code",
   "execution_count": 9,
   "metadata": {},
   "outputs": [],
   "source": [
    "# 3. additional data structures allowed\n",
    "def isunique3(s):\n",
    "    \"\"\"\n",
    "    create a set, put chars in and check if it's already existed\n",
    "    \n",
    "    space O(n)\n",
    "    time O(n)\n",
    "    \"\"\"\n",
    "    \n",
    "    cset = set()\n",
    "    for c in s:\n",
    "        if c in cset:\n",
    "            return False\n",
    "        else:\n",
    "            cset.add(c)\n",
    "    return True"
   ]
  },
  {
   "cell_type": "code",
   "execution_count": 16,
   "metadata": {},
   "outputs": [],
   "source": [
    "# 4. improved space complexity\n",
    "def isunique4(s):\n",
    "    \"\"\"\n",
    "    create a fixed length arr with 128 elements -> each repr a char\n",
    "    \n",
    "    space\n",
    "    time\n",
    "    \"\"\"\n",
    "    \n",
    "    char_arr = [False]*128\n",
    "    for c in s:\n",
    "        c_ascii = ord(c)\n",
    "        if char_arr[c_ascii]:\n",
    "            return False\n",
    "        char_arr[c_ascii] = True\n",
    "    return True"
   ]
  },
  {
   "cell_type": "code",
   "execution_count": 17,
   "metadata": {},
   "outputs": [
    {
     "name": "stdout",
     "output_type": "stream",
     "text": [
      "True\n",
      "True\n",
      "True\n"
     ]
    }
   ],
   "source": [
    "# Testcases\n",
    "\n",
    "def isunique(s):\n",
    "    return isunique4(s)\n",
    "\n",
    "s1 = \"abcde\"\n",
    "s2 = \"abbde\"\n",
    "s3 = \"\"\n",
    "\n",
    "print(isunique(s1) == True)\n",
    "print(isunique(s2) == False)\n",
    "print(isunique(s3) == True)"
   ]
  },
  {
   "cell_type": "code",
   "execution_count": null,
   "metadata": {},
   "outputs": [],
   "source": []
  }
 ],
 "metadata": {
  "kernelspec": {
   "display_name": "Python 3",
   "language": "python",
   "name": "python3"
  },
  "language_info": {
   "codemirror_mode": {
    "name": "ipython",
    "version": 3
   },
   "file_extension": ".py",
   "mimetype": "text/x-python",
   "name": "python",
   "nbconvert_exporter": "python",
   "pygments_lexer": "ipython3",
   "version": "3.7.1"
  }
 },
 "nbformat": 4,
 "nbformat_minor": 2
}

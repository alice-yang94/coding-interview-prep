{
 "cells": [
  {
   "cell_type": "markdown",
   "metadata": {},
   "source": [
    "## Q2.3 Delete Middle Node\n",
    "\n",
    "Given only the access to the node to be deleted\n",
    "\n",
    "The node is in the middle(not first/last) of a singly linked list \n",
    "\n",
    "e.g. \n",
    "- input Node(3)\n",
    "- before: 1->2->3->4\n",
    "- after: 1->2->4\n",
    "\n",
    "Input: \n",
    "Node node_to_delete\n",
    "\n",
    "Return: \n",
    "nothing"
   ]
  },
  {
   "cell_type": "code",
   "execution_count": 5,
   "metadata": {},
   "outputs": [],
   "source": [
    "\"\"\" \n",
    "Solution1:\n",
    "\n",
    "1. copy the value of the next node of the given node(to be deleted) to the given node\n",
    "2. delete the copied node\n",
    "\n",
    "space O(1)\n",
    "time O(1)\n",
    "\"\"\"\n",
    "\n",
    "def deleteNode(node):\n",
    "    if not node or not node.next:\n",
    "        return False\n",
    "    \n",
    "    _next = node.next\n",
    "    # copy val\n",
    "    node.val = _next.val\n",
    "    # delete next\n",
    "    node.next = _next.next\n",
    "    return True"
   ]
  },
  {
   "cell_type": "code",
   "execution_count": null,
   "metadata": {},
   "outputs": [],
   "source": []
  },
  {
   "cell_type": "markdown",
   "metadata": {},
   "source": [
    "## Testing "
   ]
  },
  {
   "cell_type": "code",
   "execution_count": 2,
   "metadata": {},
   "outputs": [],
   "source": [
    "from myLinkedLists import SinglyLinkedList\n",
    "\n",
    "def test(test_lists, deleteNode):\n",
    "    total = len(test_lists)\n",
    "    correct = 0\n",
    "    \n",
    "    for l,idx_to_delete,sol in test_lists:\n",
    "        sll = SinglyLinkedList(l)\n",
    "        \n",
    "        node_to_delete = sll.head\n",
    "        for i in range(idx_to_delete):\n",
    "            node_to_delete = node_to_delete.next\n",
    "        \n",
    "        \n",
    "        \n",
    "        print('Before: ',sll)\n",
    "        res = deleteNode(node_to_delete)\n",
    "        print('After: ', sll)\n",
    "        \n",
    "        curr = sll.toList()==sol\n",
    "        correct += curr\n",
    "        print(curr)\n",
    "        print('-'*50)\n",
    "    \n",
    "    print(f'{correct}/{total}')\n",
    "    if correct == total:\n",
    "        print('All passed')"
   ]
  },
  {
   "cell_type": "code",
   "execution_count": 3,
   "metadata": {},
   "outputs": [],
   "source": [
    "# (original_list, idx_to_delete, after_deletion)\n",
    "test_lists = [\n",
    "    ([1,2,3,4], 2, [1,2,4]),\n",
    "    ([1,3,5,7,100], 1, [1,5,7,100])\n",
    "]"
   ]
  },
  {
   "cell_type": "code",
   "execution_count": 4,
   "metadata": {},
   "outputs": [
    {
     "name": "stdout",
     "output_type": "stream",
     "text": [
      "Before:  1 -> 2 -> 3 -> 4\n",
      "After:  1 -> 2 -> 4\n",
      "True\n",
      "--------------------------------------------------\n",
      "Before:  1 -> 3 -> 5 -> 7 -> 100\n",
      "After:  1 -> 5 -> 7 -> 100\n",
      "True\n",
      "--------------------------------------------------\n",
      "2/2\n",
      "All passed\n"
     ]
    }
   ],
   "source": [
    "test(test_lists, deleteNode)"
   ]
  },
  {
   "cell_type": "code",
   "execution_count": null,
   "metadata": {},
   "outputs": [],
   "source": []
  }
 ],
 "metadata": {
  "kernelspec": {
   "display_name": "Python 3",
   "language": "python",
   "name": "python3"
  },
  "language_info": {
   "codemirror_mode": {
    "name": "ipython",
    "version": 3
   },
   "file_extension": ".py",
   "mimetype": "text/x-python",
   "name": "python",
   "nbconvert_exporter": "python",
   "pygments_lexer": "ipython3",
   "version": "3.7.1"
  }
 },
 "nbformat": 4,
 "nbformat_minor": 2
}

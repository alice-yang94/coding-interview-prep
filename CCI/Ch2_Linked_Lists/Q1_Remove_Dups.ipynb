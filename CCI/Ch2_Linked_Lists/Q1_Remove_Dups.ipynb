{
 "cells": [
  {
   "cell_type": "markdown",
   "metadata": {},
   "source": [
    "## Q2.1 Remove Dups\n",
    "\n",
    "1. Remove dups from an unsorted linked list\n",
    "2. What if a temporary buffer is not allowed?\n",
    "\n",
    "e.g. \n",
    "- Singly linked list\n",
    "        10->1->100->1,\n",
    "        head \n",
    "\n",
    "- Doubly linked list\n",
    "        10<->1<->100<->1, \n",
    "        head\n",
    "\n",
    "Input: \n",
    "linked list l\n",
    "\n",
    "Return: \n",
    "linked list l'"
   ]
  },
  {
   "cell_type": "code",
   "execution_count": 5,
   "metadata": {},
   "outputs": [],
   "source": [
    "\"\"\" \n",
    "Assume the input is a singly linked list of integers\n",
    "\n",
    "Solution1:\n",
    "Iterate the list and store the visited in a set\n",
    "\n",
    "space O(n)\n",
    "time O(n)\n",
    "\"\"\"\n",
    "\n",
    "def removeDupsSingly1(sll):\n",
    "    if not sll or not sll.head:\n",
    "        return False\n",
    "    \n",
    "    curr = sll.head\n",
    "    visited = set()\n",
    "    visited.add(curr.val)\n",
    "    \n",
    "    while curr.next:\n",
    "        _next = curr.next\n",
    "        if _next.val in visited:\n",
    "            # remove next\n",
    "            curr.next = _next.next\n",
    "        else:\n",
    "            visited.add(_next.val)\n",
    "            curr = _next\n",
    "    \n",
    "    return True"
   ]
  },
  {
   "cell_type": "code",
   "execution_count": 6,
   "metadata": {},
   "outputs": [],
   "source": [
    "def removeDupsDoubly1(dll):\n",
    "    # delete use next pointer, but need to update prev\n",
    "    if not dll or not dll.head:\n",
    "        return False\n",
    "    \n",
    "    curr = dll.head\n",
    "    visited = set()\n",
    "    visited.add(curr.val)\n",
    "    \n",
    "    while curr.next:\n",
    "        _next = curr.next\n",
    "        if _next.val in visited:\n",
    "            # remove next\n",
    "            curr.next = _next.next\n",
    "            if _next.next:\n",
    "                _next.next.prev = curr\n",
    "        else:\n",
    "            visited.add(_next.val)\n",
    "            curr = _next\n",
    "    \n",
    "    return True"
   ]
  },
  {
   "cell_type": "code",
   "execution_count": 17,
   "metadata": {},
   "outputs": [],
   "source": [
    "\"\"\"\n",
    "Solution2:\n",
    "\n",
    "if buffer(extra data structure) not allowed\n",
    "\n",
    "two pointer: one for curr node, another for traverse the rest nodes to compare\n",
    "\n",
    "space O(1)\n",
    "time O(n^2)\n",
    "\"\"\"\n",
    "\n",
    "def removeDupsSingly2(sll):\n",
    "    if not sll or not sll.head:\n",
    "        return False\n",
    "    \n",
    "    node = sll.head\n",
    "    while node:\n",
    "        # compare all nodes after node\n",
    "        curr = node\n",
    "        while curr.next:\n",
    "            if node.val == curr.next.val:\n",
    "                # delete curr.next if val same as node\n",
    "                curr.next = curr.next.next\n",
    "            else:\n",
    "                curr = curr.next\n",
    "        node = node.next\n",
    "    \n",
    "    return True\n",
    "        "
   ]
  },
  {
   "cell_type": "code",
   "execution_count": 32,
   "metadata": {},
   "outputs": [],
   "source": [
    "def removeDupsDoubly2(dll):\n",
    "    if not dll or not dll.head:\n",
    "        return False\n",
    "    \n",
    "    node = dll.head\n",
    "    while node:\n",
    "        # compare all nodes after node\n",
    "        curr = node\n",
    "        while curr.next:\n",
    "            if node.val == curr.next.val:\n",
    "                print(curr.next.val)\n",
    "                # delete curr.next\n",
    "                deleteNext(curr)\n",
    "            else:\n",
    "                curr = curr.next\n",
    "        node = node.next\n",
    "    \n",
    "    return True\n",
    "\n",
    "def deleteNext(curr):\n",
    "    curr.next = curr.next.next\n",
    "    \"\"\"\n",
    "    Note: curr.next has been updated to new next(curr.next.next)\n",
    "        if identify curr.next.next \n",
    "        -> it is actually curr.next.next.next \n",
    "        -> where curr.next.next is not checked by if None, will cause error:\n",
    "            None type does not have next\n",
    "    \"\"\"\n",
    "    if curr.next:\n",
    "        curr.next.prev = curr"
   ]
  },
  {
   "cell_type": "code",
   "execution_count": null,
   "metadata": {},
   "outputs": [],
   "source": []
  },
  {
   "cell_type": "markdown",
   "metadata": {},
   "source": [
    "## Testing "
   ]
  },
  {
   "cell_type": "code",
   "execution_count": 8,
   "metadata": {},
   "outputs": [],
   "source": [
    "l1 = []\n",
    "\n",
    "l2 = [10,1,100,30,1]\n",
    "l2_sol = [10,1,100,30]\n",
    "\n",
    "l3 = [10,10,10]\n",
    "l3_sol = [10] \n",
    "\n",
    "l4 = [10,1,10,100,100]\n",
    "l4_sol = [10,1,100]\n",
    "\n",
    "lists = [\n",
    "    (l1,l1),\n",
    "    (l2,l2_sol),\n",
    "    (l3,l3_sol),\n",
    "    (l4,l4_sol)\n",
    "]"
   ]
  },
  {
   "cell_type": "markdown",
   "metadata": {},
   "source": [
    "## Test Singly "
   ]
  },
  {
   "cell_type": "code",
   "execution_count": 9,
   "metadata": {},
   "outputs": [],
   "source": [
    "from myLinkedLists import SinglyLinkedList\n",
    "\n",
    "def testSll(lists, removeDupsSingly1):\n",
    "    for l,l_sol in lists:\n",
    "        sll = SinglyLinkedList(l)\n",
    "        print('Original: ', sll)\n",
    "        removeDupsSingly1(sll)\n",
    "        print('Removed: ', sll)\n",
    "        print(sll.toList() == l_sol)\n",
    "        print('-'*50)"
   ]
  },
  {
   "cell_type": "code",
   "execution_count": 19,
   "metadata": {},
   "outputs": [
    {
     "name": "stdout",
     "output_type": "stream",
     "text": [
      "Original:  Error: This is an empty list.\n",
      "Removed:  Error: This is an empty list.\n",
      "True\n",
      "--------------------------------------------------\n",
      "Original:  10 -> 1 -> 100 -> 30 -> 1\n",
      "Removed:  10 -> 1 -> 100 -> 30\n",
      "True\n",
      "--------------------------------------------------\n",
      "Original:  10 -> 10 -> 10\n",
      "Removed:  10\n",
      "True\n",
      "--------------------------------------------------\n",
      "Original:  10 -> 1 -> 10 -> 100 -> 100\n",
      "Removed:  10 -> 1 -> 100\n",
      "True\n",
      "--------------------------------------------------\n"
     ]
    }
   ],
   "source": [
    "# change func name to test diff solutions\n",
    "testSll(lists, removeDupsSingly2)"
   ]
  },
  {
   "cell_type": "markdown",
   "metadata": {},
   "source": [
    "## Test Doubly "
   ]
  },
  {
   "cell_type": "code",
   "execution_count": 23,
   "metadata": {},
   "outputs": [],
   "source": [
    "from myLinkedLists import DoublyLinkedList \n",
    "\n",
    "def testDll(lists, removeDupsDoubly1):\n",
    "    for l,l_sol in lists:\n",
    "        dll = DoublyLinkedList(l)\n",
    "        print('Original: \\n', dll)\n",
    "        removeDupsDoubly1(dll)\n",
    "        print('Removed: \\n', dll)\n",
    "        print(dll.toList() == l_sol)\n",
    "        print('-'*50)"
   ]
  },
  {
   "cell_type": "code",
   "execution_count": 33,
   "metadata": {},
   "outputs": [
    {
     "name": "stdout",
     "output_type": "stream",
     "text": [
      "Original: \n",
      " Error: This is an empty list.\n",
      "Removed: \n",
      " Error: This is an empty list.\n",
      "True\n",
      "--------------------------------------------------\n",
      "Original: \n",
      " 10 -> 1 -> 100 -> 30 -> 1\n",
      "10 <- 1 <- 100 <- 30 <- 1\n",
      "1\n",
      "Removed: \n",
      " 10 -> 1 -> 100 -> 30\n",
      "10 <- 1 <- 100 <- 30\n",
      "True\n",
      "--------------------------------------------------\n",
      "Original: \n",
      " 10 -> 10 -> 10\n",
      "10 <- 10 <- 10\n",
      "10\n",
      "10\n",
      "Removed: \n",
      " 10\n",
      "10\n",
      "True\n",
      "--------------------------------------------------\n",
      "Original: \n",
      " 10 -> 1 -> 10 -> 100 -> 100\n",
      "10 <- 1 <- 10 <- 100 <- 100\n",
      "10\n",
      "100\n",
      "Removed: \n",
      " 10 -> 1 -> 100\n",
      "10 <- 1 <- 100\n",
      "True\n",
      "--------------------------------------------------\n"
     ]
    }
   ],
   "source": [
    "# change func name to test diff solutions\n",
    "testDll(lists, removeDupsDoubly2)"
   ]
  },
  {
   "cell_type": "code",
   "execution_count": null,
   "metadata": {},
   "outputs": [],
   "source": []
  }
 ],
 "metadata": {
  "kernelspec": {
   "display_name": "Python 3",
   "language": "python",
   "name": "python3"
  },
  "language_info": {
   "codemirror_mode": {
    "name": "ipython",
    "version": 3
   },
   "file_extension": ".py",
   "mimetype": "text/x-python",
   "name": "python",
   "nbconvert_exporter": "python",
   "pygments_lexer": "ipython3",
   "version": "3.7.1"
  }
 },
 "nbformat": 4,
 "nbformat_minor": 2
}

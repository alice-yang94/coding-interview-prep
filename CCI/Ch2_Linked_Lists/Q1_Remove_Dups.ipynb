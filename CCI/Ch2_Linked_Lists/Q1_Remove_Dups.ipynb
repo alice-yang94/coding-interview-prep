{
 "cells": [
  {
   "cell_type": "markdown",
   "metadata": {},
   "source": [
    "## Q2.1 Remove Dups\n",
    "\n",
    "1. Remove dups from an unsorted linked list\n",
    "2. What if a temporary buffer is not allowed?\n",
    "\n",
    "e.g. \n",
    "- Singly linked list\n",
    "        10->1->100->1,\n",
    "        head \n",
    "\n",
    "- Doubly linked list\n",
    "        10<->1<->100<->1, \n",
    "        head\n",
    "\n",
    "Input: \n",
    "linked list l\n",
    "\n",
    "Return: \n",
    "linked list l'"
   ]
  },
  {
   "cell_type": "code",
   "execution_count": 1,
   "metadata": {},
   "outputs": [],
   "source": [
    "\"\"\" \n",
    "Assume the input elements in linked list are all integers\n",
    "\n",
    "Solution1:\n",
    "\n",
    "\"\"\"\n",
    "\n",
    "def removeDups1(linkedList):\n",
    "    return"
   ]
  },
  {
   "cell_type": "code",
   "execution_count": 26,
   "metadata": {},
   "outputs": [
    {
     "name": "stdout",
     "output_type": "stream",
     "text": [
      "True\n",
      "True\n",
      "True\n",
      "True\n"
     ]
    }
   ],
   "source": [
    "# Testcases\n",
    "\n",
    "def removeDups(linkedList):\n",
    "    return removeDups1(linkedList)\n",
    "\n"
   ]
  },
  {
   "cell_type": "markdown",
   "metadata": {},
   "source": [
    "## Singly Linked List"
   ]
  },
  {
   "cell_type": "code",
   "execution_count": 37,
   "metadata": {},
   "outputs": [],
   "source": [
    "class SinglyLinkedList:\n",
    "    def __init__(self, elemList):\n",
    "        self.head = self._listToSLL(elemList)\n",
    "    \n",
    "    def __str__(self):\n",
    "        if not self.head:\n",
    "            return \"Error: This is an empty list.\"\n",
    "        \n",
    "        sll_list = []\n",
    "        curr = self.head\n",
    "        \n",
    "        while curr:\n",
    "            sll_list.append(str(curr.val))\n",
    "            curr = curr.next\n",
    "        \n",
    "        return \" -> \".join(sll_list)\n",
    "    \n",
    "    def _listToSLL(self, l):\n",
    "        if len(l) == 0:\n",
    "            return None\n",
    "\n",
    "        head = Node(l[0])\n",
    "        curr = head\n",
    "        for elem in l[1:]:\n",
    "            curr.next = Node(elem)\n",
    "            curr = curr.next\n",
    "        return head\n",
    "        \n",
    "class Node:\n",
    "    def __init__(self, val):\n",
    "        self.val = val\n",
    "        self.next = None"
   ]
  },
  {
   "cell_type": "code",
   "execution_count": 38,
   "metadata": {},
   "outputs": [
    {
     "name": "stdout",
     "output_type": "stream",
     "text": [
      "10 -> 1 -> 100 -> 30 -> 1\n",
      "Error: This is an empty list.\n"
     ]
    }
   ],
   "source": [
    "# Singly testcases and helper functions\n",
    "# def listToSLL(l):\n",
    "#     if len(l) == 0:\n",
    "#         return None\n",
    "    \n",
    "#     head = Node(l[0])\n",
    "#     curr = head\n",
    "#     for elem in l[1:]:\n",
    "#         curr.next = Node(elem)\n",
    "#         curr = curr.next\n",
    "#     return head\n",
    "\n",
    "l1 = [10,1,100,30,1]\n",
    "l2 = []\n",
    "\n",
    "sll1 = SinglyLinkedList(l1)\n",
    "print(sll1)\n",
    "sll2 = SinglyLinkedList(l2)\n",
    "print(sll2)"
   ]
  },
  {
   "cell_type": "markdown",
   "metadata": {},
   "source": [
    "## Doubly Linked List"
   ]
  },
  {
   "cell_type": "code",
   "execution_count": 39,
   "metadata": {},
   "outputs": [],
   "source": [
    "class DoublyLinkedList:\n",
    "    def __init__(self, elemList):\n",
    "        self.head = self._listToDLL(elemList)\n",
    "        \n",
    "    def __str__(self):\n",
    "        if not self.head:\n",
    "            return \"Error: This is an empty list.\"\n",
    "        \n",
    "        dll_list = []\n",
    "        curr = self.head\n",
    "        while curr:\n",
    "            dll_list.append(str(curr.val))\n",
    "            curr = curr.next\n",
    "        return \" <-> \".join(dll_list)\n",
    "    \n",
    "    # helper function: transform list to DLL\n",
    "    def _listToDLL(self, l):\n",
    "        if len(l) == 0:\n",
    "            return None\n",
    "        head = DNode(l[0])\n",
    "        curr = head\n",
    "\n",
    "        for elem in l[1:]:\n",
    "            # curr -> elem\n",
    "            curr.next = DNode(elem)\n",
    "            # curr <- elem\n",
    "            curr.next.prev = curr\n",
    "\n",
    "            curr = curr.next\n",
    "\n",
    "        return head\n",
    "        \n",
    "class DNode:\n",
    "    def __init__(self, val):\n",
    "        self.val = val\n",
    "        self.next = None\n",
    "        self.prev = None"
   ]
  },
  {
   "cell_type": "code",
   "execution_count": 40,
   "metadata": {},
   "outputs": [
    {
     "name": "stdout",
     "output_type": "stream",
     "text": [
      "10 <-> 1 <-> 100 <-> 30 <-> 1\n",
      "Error: This is an empty list.\n"
     ]
    }
   ],
   "source": [
    "# testcases\n",
    "l1 = [10,1,100,30,1]\n",
    "l2 = []\n",
    "\n",
    "sll1 = DoublyLinkedList(l1)\n",
    "print(sll1)\n",
    "sll2 = DoublyLinkedList(l2)\n",
    "print(sll2)"
   ]
  },
  {
   "cell_type": "code",
   "execution_count": null,
   "metadata": {},
   "outputs": [],
   "source": []
  }
 ],
 "metadata": {
  "kernelspec": {
   "display_name": "Python 3",
   "language": "python",
   "name": "python3"
  },
  "language_info": {
   "codemirror_mode": {
    "name": "ipython",
    "version": 3
   },
   "file_extension": ".py",
   "mimetype": "text/x-python",
   "name": "python",
   "nbconvert_exporter": "python",
   "pygments_lexer": "ipython3",
   "version": "3.7.1"
  }
 },
 "nbformat": 4,
 "nbformat_minor": 2
}

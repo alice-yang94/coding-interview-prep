{
 "cells": [
  {
   "cell_type": "markdown",
   "metadata": {},
   "source": [
    "## Q2.8 Loop Detection\n",
    "\n",
    "Given a circular linked list, return the node at the beginning of the loop\n",
    "\n",
    "e.g. \n",
    "- A -> B -> C -> D -> E -> C\n",
    "- return C\n",
    "\n",
    "Input: Linked List head\n",
    "\n",
    "Return: Node node \n"
   ]
  },
  {
   "cell_type": "code",
   "execution_count": 6,
   "metadata": {},
   "outputs": [],
   "source": [
    "from myLinkedLists import SinglyLinkedList, Node"
   ]
  },
  {
   "cell_type": "code",
   "execution_count": 14,
   "metadata": {},
   "outputs": [],
   "source": [
    "\"\"\" \n",
    "Solution1:\n",
    "\n",
    "Traverse the list, store visited node in a hashset, if visited, return node\n",
    "\n",
    "space O(n)\n",
    "time O(n)\n",
    "\n",
    "\"\"\"\n",
    "\n",
    "def getLoopHead(head):\n",
    "    visited = set()\n",
    "    curr = head\n",
    "    while curr not in visited:\n",
    "        visited.add(curr)\n",
    "        curr = curr.next\n",
    "    return curr"
   ]
  },
  {
   "cell_type": "code",
   "execution_count": 8,
   "metadata": {},
   "outputs": [],
   "source": [
    "\"\"\"\n",
    "Solution2:\n",
    "\n",
    "1. Two pointers, fast and slow, fast visits all even nodes, slow visits one by one, \n",
    "2. when fast meets slow\n",
    "- if fast_prev == slow_prev -> return fast_prev\n",
    "- else -> return fast\n",
    "\n",
    "slow\n",
    "A -> *B -> C -> D -> E -> C\n",
    "fast\n",
    "B -> D -> C\n",
    "fast_prev\n",
    "A -> C -> *E\n",
    "\n",
    "---\n",
    "slow\n",
    "A -> B -> *C -> D -> C \n",
    "fast\n",
    "B -> D -> D -> D\n",
    "fast_prev\n",
    "A -> C -> C -> *C\n",
    "\n",
    "---\n",
    "slow\n",
    "A -> B -> *C -> D -> E -> F -> C \n",
    "fast\n",
    "B -> D -> F -> D\n",
    "fast prev\n",
    "A -> C -> E -> *C\n",
    "\n",
    "space O(1)\n",
    "time O(n)\n",
    "\"\"\"\n",
    "\n",
    "def getLoopHead2(head):\n",
    "    fast = head.next\n",
    "    slow = head\n",
    "    \n",
    "    fastPrev = head\n",
    "    slowPrev = None\n",
    "    \n",
    "    while fast != slow:\n",
    "        fastPrev = fast.next\n",
    "        slowPrev = slow\n",
    "        \n",
    "        fast = fast.next.next\n",
    "        slow = slow.next\n",
    "    \n",
    "    if fastPrev == slowPrev:\n",
    "        return fastPrev\n",
    "    return fast\n",
    "        "
   ]
  },
  {
   "cell_type": "code",
   "execution_count": null,
   "metadata": {},
   "outputs": [],
   "source": []
  },
  {
   "cell_type": "markdown",
   "metadata": {},
   "source": [
    "## Testing "
   ]
  },
  {
   "cell_type": "code",
   "execution_count": 9,
   "metadata": {},
   "outputs": [],
   "source": [
    "def getRefs(head):\n",
    "    refs = []\n",
    "    while head:\n",
    "        refs.append(str(id(head)))\n",
    "        head = head.next\n",
    "    return ' -> '.join(refs)\n",
    "\n",
    "def getNode(head, idx):\n",
    "    node = head\n",
    "    for i in range(idx):\n",
    "        if not node:\n",
    "            return None\n",
    "        node = node.next\n",
    "    return node\n",
    "\n",
    "def appendNode(head, idx):\n",
    "    # given a linked list head and a idx, append node at idx to the end of the linked list\n",
    "    node = getNode(head, idx)\n",
    "    tail = head\n",
    "    while tail.next:\n",
    "        tail = tail.next\n",
    "    tail.next = node\n",
    "    return id(node)\n",
    "\n",
    "def test(test_lists, func):\n",
    "    total = len(test_lists)\n",
    "    correct = 0\n",
    "    \n",
    "    for l, idx in test_lists:\n",
    "        sll = SinglyLinkedList(l)\n",
    "        print('sll: ', getRefs(sll.head), end='')\n",
    "        \n",
    "        nodeid = appendNode(sll.head, idx)\n",
    "        \n",
    "        print('->', nodeid)\n",
    "        print('Loop Head: ', nodeid)\n",
    "        \n",
    "        node = func(sll.head)\n",
    "        print('res: ', id(node))\n",
    "        \n",
    "        curr = id(node) == nodeid\n",
    "        correct += curr\n",
    "        print(curr, '\\n', '-'*50, sep='')\n",
    "    \n",
    "    print(f'{correct}/{total}')\n",
    "    if correct == total:\n",
    "        print('All passed')"
   ]
  },
  {
   "cell_type": "code",
   "execution_count": 18,
   "metadata": {},
   "outputs": [],
   "source": [
    "test_lists = [\n",
    "    ([1,2,3,4,5], 2),\n",
    "    ([1,2,3,4], 2),\n",
    "    ([1,1,1,1,1,1], 2),\n",
    "    ([2,4,6,4,2,1,3,52,100,24], 4)\n",
    "]"
   ]
  },
  {
   "cell_type": "code",
   "execution_count": 19,
   "metadata": {},
   "outputs": [
    {
     "name": "stdout",
     "output_type": "stream",
     "text": [
      "sll:  140413814686776 -> 140413814687168 -> 140413814687224 -> 140413814687336 -> 140413814687280-> 140413814687224\n",
      "Loop Head:  140413814687224\n",
      "res:  140413814687224\n",
      "True\n",
      "--------------------------------------------------\n",
      "sll:  140413814685936 -> 140413814687392 -> 140413814687616 -> 140413814687728-> 140413814687616\n",
      "Loop Head:  140413814687616\n",
      "res:  140413814687616\n",
      "True\n",
      "--------------------------------------------------\n",
      "sll:  140413814687840 -> 140413814687672 -> 140413814687896 -> 140413814687952 -> 140413814688008 -> 140413814688064-> 140413814687896\n",
      "Loop Head:  140413814687896\n",
      "res:  140413814687896\n",
      "True\n",
      "--------------------------------------------------\n",
      "sll:  140413814685936 -> 140413814687784 -> 140413814688344 -> 140413814688456 -> 140413814688568 -> 140413814688512 -> 140413814688400 -> 140413814688624 -> 140413814688680 -> 140413814689184-> 140413814688568\n",
      "Loop Head:  140413814688568\n",
      "res:  140413814688568\n",
      "True\n",
      "--------------------------------------------------\n",
      "4/4\n",
      "All passed\n"
     ]
    }
   ],
   "source": [
    "test(test_lists, getLoopHead)"
   ]
  },
  {
   "cell_type": "code",
   "execution_count": null,
   "metadata": {},
   "outputs": [],
   "source": []
  }
 ],
 "metadata": {
  "kernelspec": {
   "display_name": "Python 3",
   "language": "python",
   "name": "python3"
  },
  "language_info": {
   "codemirror_mode": {
    "name": "ipython",
    "version": 3
   },
   "file_extension": ".py",
   "mimetype": "text/x-python",
   "name": "python",
   "nbconvert_exporter": "python",
   "pygments_lexer": "ipython3",
   "version": "3.7.1"
  }
 },
 "nbformat": 4,
 "nbformat_minor": 2
}

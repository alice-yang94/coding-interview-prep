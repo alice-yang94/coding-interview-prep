{
 "cells": [
  {
   "cell_type": "markdown",
   "metadata": {},
   "source": [
    "## Q2.8 Loop Detection\n",
    "\n",
    "Given a circular linked list, return the node at the beginning of the loop\n",
    "\n",
    "e.g. \n",
    "- A -> B -> C -> D -> E -> C\n",
    "- return C\n",
    "\n",
    "Input: Linked List head\n",
    "\n",
    "Return: Node node \n"
   ]
  },
  {
   "cell_type": "code",
   "execution_count": 28,
   "metadata": {},
   "outputs": [],
   "source": [
    "from myLinkedLists import SinglyLinkedList, Node"
   ]
  },
  {
   "cell_type": "code",
   "execution_count": 29,
   "metadata": {},
   "outputs": [],
   "source": [
    "\"\"\" \n",
    "Solution1:\n",
    "\n",
    "Assume loop exist.\n",
    "Traverse the list, store visited node in a hashset, if visited, return node\n",
    "\n",
    "space O(n)\n",
    "time O(n)\n",
    "\n",
    "\"\"\"\n",
    "\n",
    "def getLoopHead(head):\n",
    "    visited = set()\n",
    "    curr = head\n",
    "    while curr not in visited:\n",
    "        visited.add(curr)\n",
    "        curr = curr.next\n",
    "    return curr"
   ]
  },
  {
   "cell_type": "code",
   "execution_count": 44,
   "metadata": {},
   "outputs": [],
   "source": [
    "\"\"\"\n",
    "Solution2:\n",
    "\n",
    "1. Two pointers, fast and slow, fast visits all even nodes, slow visits one by one, \n",
    "2. when fast meets slow\n",
    "    - slow move one step a time\n",
    "    - fast starts from head and move one step a time\n",
    "3. the next time fast and slow meet is the beginning of the loop\n",
    "\n",
    "space O(1)\n",
    "time O(n)\n",
    "\"\"\"\n",
    "\n",
    "def getLoopHead2(head):\n",
    "    if not head:\n",
    "        return None\n",
    "    \n",
    "    fast = head\n",
    "    slow = head\n",
    "    \n",
    "    # check if loop exist, update first, otherwise fast = slow = head -> break\n",
    "    while fast.next:\n",
    "        fast = fast.next.next\n",
    "        slow = slow.next\n",
    "        if fast == slow:\n",
    "            break\n",
    "    \n",
    "    if not fast.next:\n",
    "        # did not meet, no loop\n",
    "        return None\n",
    "    \n",
    "    # next meeting point is the start of the loop\n",
    "    fast = head\n",
    "    while fast != slow:\n",
    "        fast = fast.next\n",
    "        slow = slow.next\n",
    "\n",
    "    # return any of fast or slow\n",
    "    return fast\n",
    "        "
   ]
  },
  {
   "cell_type": "markdown",
   "metadata": {},
   "source": [
    "### Prove of solution2:\n",
    "\n",
    "Assumption:\n",
    "1. k is the length from head to start of the loop\n",
    "2. M is the loop size\n",
    "\n",
    "1 -> 2 -> .. -> k -> k+1 -> ... -> k+M-1 -> k\n",
    "\n",
    "Try to find when will fast and slow meet:\n",
    "\n",
    "1. when slow moves k steps,\n",
    "    1. slow is at the start of loop\n",
    "    2. fast moves 2k steps\n",
    "    3. fast is at the k%M position in the loop\n",
    "2. Assume when slow moves k+x steps, fast and slow meet.\n",
    "    1. slow is at (x%M) in the loop\n",
    "    2. fast moves 2(k+x) steps => (k+2x)%M in the loop\n",
    "    3. fast and slow meet means they are at the same pos in the loop:\n",
    "           x%M = (k+2x)%M\n",
    "           => k+x = CM\n",
    "    4. This means if you move k+x from start of loop, it goes back to the beginning.\n",
    "\n",
    "Currently, slow has moved x steps in side the loop, therefore, if it moves k more steps, it reaches the start of the loop. (k+x = CM)\n",
    "\n",
    "If we let fast start from head of list and move k steps, it reaches the start of loop as well! (see Assumption1)\n",
    "\n",
    "Finally, if fast and slow both move k steps, they will meet at the start of the loop.\n",
    "\n",
    "Return any if they meet!"
   ]
  },
  {
   "cell_type": "markdown",
   "metadata": {},
   "source": [
    "## Testing "
   ]
  },
  {
   "cell_type": "code",
   "execution_count": 35,
   "metadata": {},
   "outputs": [],
   "source": [
    "def getRefs(head):\n",
    "    refs = []\n",
    "    while head:\n",
    "        refs.append(str(id(head)))\n",
    "        head = head.next\n",
    "    return ' -> '.join(refs)\n",
    "\n",
    "def getNode(head, idx):\n",
    "    node = head\n",
    "    for i in range(idx):\n",
    "        if not node:\n",
    "            return None\n",
    "        node = node.next\n",
    "    return node\n",
    "\n",
    "def appendNode(head, idx):\n",
    "    # given a linked list head and a idx, append node at idx to the end of the linked list\n",
    "    node = getNode(head, idx)\n",
    "    tail = head\n",
    "    while tail.next:\n",
    "        tail = tail.next\n",
    "    tail.next = node\n",
    "    return id(node)\n",
    "\n",
    "def test(test_lists, func):\n",
    "    total = len(test_lists)\n",
    "    correct = 0\n",
    "    \n",
    "    for l, idx in test_lists:\n",
    "        sll = SinglyLinkedList(l)\n",
    "        print('sll: ', getRefs(sll.head), end='')\n",
    "        \n",
    "        nodeid = appendNode(sll.head, idx)\n",
    "        \n",
    "        print('->', nodeid)\n",
    "        print('Loop Head: ', nodeid)\n",
    "        \n",
    "        node = func(sll.head)\n",
    "        print('res: ', id(node))\n",
    "        \n",
    "        curr = id(node) == nodeid\n",
    "        correct += curr\n",
    "        print(curr, '\\n', '-'*50, sep='')\n",
    "    \n",
    "    print(f'{correct}/{total}')\n",
    "    if correct == total:\n",
    "        print('All passed')"
   ]
  },
  {
   "cell_type": "code",
   "execution_count": 36,
   "metadata": {},
   "outputs": [],
   "source": [
    "test_lists = [\n",
    "    ([1,2,3,4,5], 2),\n",
    "    ([1,2,3,4], 2),\n",
    "    ([1,1,1,1,1,1], 2),\n",
    "    ([2,4,6,4,2,1,3,52,100,24], 3),\n",
    "    ([2,4,6,4,2,1,3,52,100], 3)\n",
    "]"
   ]
  },
  {
   "cell_type": "code",
   "execution_count": 43,
   "metadata": {},
   "outputs": [
    {
     "name": "stdout",
     "output_type": "stream",
     "text": [
      "sll:  140413814686664 -> 140413814689296 -> 140413814687560 -> 140413814686272 -> 140413814689520-> 140413814687560\n",
      "Loop Head:  140413814687560\n",
      "res:  140413814687560\n",
      "True\n",
      "--------------------------------------------------\n",
      "sll:  140413814688176 -> 140413814689408 -> 140413814688568 -> 140413814687672-> 140413814688568\n",
      "Loop Head:  140413814688568\n",
      "res:  140413814688568\n",
      "True\n",
      "--------------------------------------------------\n",
      "sll:  140413814686664 -> 140413814686328 -> 140413814686552 -> 140413815334728 -> 140413815333496 -> 140413815335400-> 140413814686552\n",
      "Loop Head:  140413814686552\n",
      "res:  140413814686552\n",
      "True\n",
      "--------------------------------------------------\n",
      "sll:  140413814688176 -> 140413814689296 -> 140413815334784 -> 140413815334336 -> 140413815334616 -> 140413815334000 -> 140413815334504 -> 140413815336800 -> 140413815336856 -> 140413815336072-> 140413815334336\n",
      "Loop Head:  140413815334336\n",
      "res:  140413815334336\n",
      "True\n",
      "--------------------------------------------------\n",
      "sll:  140413814686664 -> 140413814689408 -> 140413815334056 -> 140413815333552 -> 140413815333664 -> 140413815336296 -> 140413815333328 -> 140413813416568 -> 140413814767688-> 140413815333552\n",
      "Loop Head:  140413815333552\n",
      "res:  140413815333552\n",
      "True\n",
      "--------------------------------------------------\n",
      "5/5\n",
      "All passed\n"
     ]
    }
   ],
   "source": [
    "test(test_lists, getLoopHead2)"
   ]
  },
  {
   "cell_type": "code",
   "execution_count": null,
   "metadata": {},
   "outputs": [],
   "source": []
  }
 ],
 "metadata": {
  "kernelspec": {
   "display_name": "Python 3",
   "language": "python",
   "name": "python3"
  },
  "language_info": {
   "codemirror_mode": {
    "name": "ipython",
    "version": 3
   },
   "file_extension": ".py",
   "mimetype": "text/x-python",
   "name": "python",
   "nbconvert_exporter": "python",
   "pygments_lexer": "ipython3",
   "version": "3.7.1"
  }
 },
 "nbformat": 4,
 "nbformat_minor": 2
}

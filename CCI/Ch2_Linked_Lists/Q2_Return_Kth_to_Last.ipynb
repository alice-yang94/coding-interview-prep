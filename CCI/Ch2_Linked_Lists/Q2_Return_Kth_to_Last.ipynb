{
 "cells": [
  {
   "cell_type": "markdown",
   "metadata": {},
   "source": [
    "## Q2.2 Return Kth to Last\n",
    "\n",
    "Return kth elem in a given singly linked list count from the end of list\n",
    "\n",
    "Length of list is not given\n",
    "\n",
    "e.g. \n",
    "Singly linked list\n",
    "- 1->2->3->4\n",
    "- 2th to last: 3 \n",
    "\n",
    "Input: \n",
    "- linked list l\n",
    "- int k\n",
    "\n",
    "Return: \n",
    "int x"
   ]
  },
  {
   "cell_type": "code",
   "execution_count": 23,
   "metadata": {},
   "outputs": [],
   "source": [
    "\"\"\" \n",
    "Assume all elems are positive integers\n",
    "\n",
    "Solution1:\n",
    "\n",
    "1. count the length of list O(n)\n",
    "2. kth to last = (n-k) from start(i=0) O(n)\n",
    "\n",
    "space O(1)\n",
    "time O(n)\n",
    "\"\"\"\n",
    "\n",
    "def kthToLast(sll, k):\n",
    "    if not sll or not sll.head:\n",
    "        return -1\n",
    "    \n",
    "    # count the length\n",
    "    n = getLength(sll)\n",
    "    \n",
    "    # get (n-k+1)th\n",
    "    target = n-k\n",
    "    return getTarget(sll, target)\n",
    "\n",
    "def getLength(sll):\n",
    "    curr = sll.head\n",
    "    length = 0\n",
    "    while curr:\n",
    "        length += 1\n",
    "        curr = curr.next\n",
    "    return length \n",
    "\n",
    "def getTarget(sll, target):\n",
    "    i = 0\n",
    "    curr = sll.head\n",
    "    while curr and i < target:\n",
    "        curr = curr.next\n",
    "        i += 1\n",
    "    \n",
    "    if i == target:\n",
    "        return curr.val\n",
    "    return -1"
   ]
  },
  {
   "cell_type": "code",
   "execution_count": null,
   "metadata": {},
   "outputs": [],
   "source": []
  },
  {
   "cell_type": "markdown",
   "metadata": {},
   "source": [
    "## Testing "
   ]
  },
  {
   "cell_type": "code",
   "execution_count": 19,
   "metadata": {},
   "outputs": [],
   "source": [
    "from myLinkedLists import SinglyLinkedList\n",
    "\n",
    "def test(test_lists, kthToLast):\n",
    "    total = len(test_lists)\n",
    "    correct = 0\n",
    "    \n",
    "    for l,k,sol in test_lists:\n",
    "        sll = SinglyLinkedList(l)\n",
    "        \n",
    "        print('SLL: {},\\t K: {},\\t Kth to Last: {}'.format(sll, k, sol))\n",
    "        res = kthToLast(sll, k)\n",
    "        print('MyAnswer: ', res)\n",
    "        \n",
    "        curr = res == sol\n",
    "        correct += curr\n",
    "        print(curr)\n",
    "        print('-'*50)\n",
    "    \n",
    "    print(f'{correct}/{total}')\n",
    "    if correct == total:\n",
    "        print('All passed')"
   ]
  },
  {
   "cell_type": "code",
   "execution_count": 20,
   "metadata": {},
   "outputs": [],
   "source": [
    "# (list, k, return_val)\n",
    "test_lists = [\n",
    "    ([1,2,3,4], 2, 3),\n",
    "    ([], 10, -1),\n",
    "    ([1,2,3,4,5], 1, 5)\n",
    "]"
   ]
  },
  {
   "cell_type": "code",
   "execution_count": 24,
   "metadata": {},
   "outputs": [
    {
     "name": "stdout",
     "output_type": "stream",
     "text": [
      "SLL: 1 -> 2 -> 3 -> 4,\t K: 2,\t Kth to Last: 3\n",
      "MyAnswer:  3\n",
      "True\n",
      "--------------------------------------------------\n",
      "SLL: Error: This is an empty list.,\t K: 10,\t Kth to Last: -1\n",
      "MyAnswer:  -1\n",
      "True\n",
      "--------------------------------------------------\n",
      "SLL: 1 -> 2 -> 3 -> 4 -> 5,\t K: 1,\t Kth to Last: 5\n",
      "MyAnswer:  5\n",
      "True\n",
      "--------------------------------------------------\n",
      "3/3\n",
      "All passed\n"
     ]
    }
   ],
   "source": [
    "test(test_lists, kthToLast)"
   ]
  },
  {
   "cell_type": "code",
   "execution_count": null,
   "metadata": {},
   "outputs": [],
   "source": []
  },
  {
   "cell_type": "code",
   "execution_count": null,
   "metadata": {},
   "outputs": [],
   "source": []
  }
 ],
 "metadata": {
  "kernelspec": {
   "display_name": "Python 3",
   "language": "python",
   "name": "python3"
  },
  "language_info": {
   "codemirror_mode": {
    "name": "ipython",
    "version": 3
   },
   "file_extension": ".py",
   "mimetype": "text/x-python",
   "name": "python",
   "nbconvert_exporter": "python",
   "pygments_lexer": "ipython3",
   "version": "3.7.1"
  }
 },
 "nbformat": 4,
 "nbformat_minor": 2
}

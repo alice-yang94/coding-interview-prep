{
 "cells": [
  {
   "cell_type": "markdown",
   "metadata": {},
   "source": [
    "## Q2.7 Intersection\n",
    "\n",
    "Given two singly linked lists, return the intersection node of the two lists. Compare by reference, not value.\n",
    "\n",
    "e.g. \n",
    "n1 = Node(1), \n",
    "n2 = Node(1), \n",
    "n3 = Node(2)\n",
    "- input1:  n1 -> n2 -> n3 \n",
    "- input2: n1 -> n3\n",
    "- output: n1\n",
    "\n",
    "Input: \n",
    "2 x SinglyLinkedList head1, head2\n",
    "\n",
    "Return: \n",
    "Node node"
   ]
  },
  {
   "cell_type": "code",
   "execution_count": 4,
   "metadata": {},
   "outputs": [],
   "source": [
    "from myLinkedLists import SinglyLinkedList, Node"
   ]
  },
  {
   "cell_type": "code",
   "execution_count": 5,
   "metadata": {},
   "outputs": [],
   "source": [
    "\"\"\" \n",
    "Solution1:\n",
    "\n",
    "Put all nodes of ll1 in a hashset and see if any node in ll2 in this hashset\n",
    "\n",
    "space O(n)\n",
    "time O(n)\n",
    "\n",
    "\"\"\"\n",
    "\n",
    "def intersection(head1, head2):\n",
    "    # put head1 nodes to hashset\n",
    "    nodeSet = getNodeSet(head1)\n",
    "    \n",
    "    # see if head2 nodes in set\n",
    "    curr = head2\n",
    "    while curr:\n",
    "        # python == compare the object reference rather than val\n",
    "        if curr in nodeSet:\n",
    "            return curr\n",
    "        curr = curr.next\n",
    "    \n",
    "    return None\n",
    "\n",
    "def getNodeSet(node):\n",
    "    nodeSet = set()\n",
    "    while node:\n",
    "        nodeSet.add(node)\n",
    "        node = node.next\n",
    "    return nodeSet"
   ]
  },
  {
   "cell_type": "code",
   "execution_count": 18,
   "metadata": {},
   "outputs": [],
   "source": [
    "\"\"\" \n",
    "Solution2:\n",
    "\n",
    "Use two pointers, one for ll1, another for traverse the whole ll2 to compare\n",
    "\n",
    "space O(1)\n",
    "time O(n^2)\n",
    "\n",
    "\"\"\"\n",
    "\n",
    "def intersection2(head1, head2):\n",
    "    curr1 = head1\n",
    "    while curr1:\n",
    "        # traverse all nodes in list2\n",
    "        curr2 = head2\n",
    "        while curr2:\n",
    "            if curr1 == curr2:\n",
    "                return curr1\n",
    "            curr2 = curr2.next\n",
    "            \n",
    "        curr1 = curr1.next\n",
    "    return None"
   ]
  },
  {
   "cell_type": "code",
   "execution_count": 26,
   "metadata": {},
   "outputs": [],
   "source": [
    "\"\"\"\n",
    "Solution3\n",
    "\n",
    "1. get lengths of two lists\n",
    "2. if tail not equal, no intersection, return False\n",
    "3. two pointers, each for a list, advance diff in length for the shorter list pointer\n",
    "4. compare until first match, return the matching node\n",
    "\n",
    "space O(1)\n",
    "time O(n)\n",
    "\n",
    "\"\"\"\n",
    "\n",
    "def intersection3(head1, head2):\n",
    "    if not head1 or not head2:\n",
    "        return None\n",
    "    \n",
    "    l1, tail1 = getLengthAndTail(head1)\n",
    "    l2, tail2 = getLengthAndTail(head2)\n",
    "    \n",
    "    if tail1 != tail2:\n",
    "        return None\n",
    "    \n",
    "    short = head1 if l1 < l2 else head2\n",
    "    long = head2 if l1 < l2 else head1\n",
    "    \n",
    "    # advance long to same length as short\n",
    "    for i in range(abs(l1-l2)):\n",
    "        long = long.next\n",
    "        \n",
    "    while short != long:\n",
    "        short = short.next\n",
    "        long = long.next\n",
    "        \n",
    "    return short\n",
    "\n",
    "def getLengthAndTail(head):\n",
    "    tail = head\n",
    "    length = 1\n",
    "    while tail.next:\n",
    "        tail = tail.next\n",
    "        length += 1\n",
    "    return length, tail\n",
    "    "
   ]
  },
  {
   "cell_type": "markdown",
   "metadata": {},
   "source": [
    "## Testing "
   ]
  },
  {
   "cell_type": "code",
   "execution_count": 12,
   "metadata": {},
   "outputs": [],
   "source": [
    "def getRefs(head):\n",
    "    refs = []\n",
    "    while head:\n",
    "        refs.append(str(id(head)))\n",
    "        head = head.next\n",
    "    return ' -> '.join(refs)"
   ]
  },
  {
   "cell_type": "code",
   "execution_count": 13,
   "metadata": {},
   "outputs": [],
   "source": [
    "def append(sll, head):\n",
    "    curr = sll.head\n",
    "    while curr.next:\n",
    "        curr = curr.next\n",
    "    curr.next = head\n",
    "\n",
    "def test(test_lists, func):\n",
    "    total = len(test_lists)\n",
    "    correct = 0\n",
    "    \n",
    "    for l1,l2,l3 in test_lists:\n",
    "        sll1 = SinglyLinkedList(l1)\n",
    "        sll2 = SinglyLinkedList(l2)\n",
    "        sll3 = SinglyLinkedList(l3)\n",
    "        \n",
    "        # append sll3 to the tail of sll1 and 2\n",
    "        append(sll1, sll3.head)\n",
    "        append(sll2, sll3.head)\n",
    "        \n",
    "        sol = id(sll3.head)\n",
    "        \n",
    "        # print ref strings\n",
    "        print('sll1: ', getRefs(sll1.head))\n",
    "        print('sll2: ', getRefs(sll2.head))\n",
    "        print('common: ', sol)\n",
    "        \n",
    "        node = func(sll1.head, sll2.head)\n",
    "        print('res: ', id(node))\n",
    "        \n",
    "        curr = id(node) == sol\n",
    "        correct += curr\n",
    "        print(curr, '\\n', '-'*50, sep='')\n",
    "    \n",
    "    print(f'{correct}/{total}')\n",
    "    if correct == total:\n",
    "        print('All passed')"
   ]
  },
  {
   "cell_type": "code",
   "execution_count": 14,
   "metadata": {},
   "outputs": [],
   "source": [
    "# (list1, list2, append to both l1 and l2)\n",
    "test_lists = [\n",
    "    ([1,2,3], [1,2], [10,1,2]),\n",
    "    ([2], [1,2,2,2], [3,2])\n",
    "]"
   ]
  },
  {
   "cell_type": "code",
   "execution_count": 27,
   "metadata": {},
   "outputs": [
    {
     "name": "stdout",
     "output_type": "stream",
     "text": [
      "sll1:  140644467358016 -> 140644467357232 -> 140644467356504 -> 140644467357792 -> 140644467357736 -> 140644467357960\n",
      "sll2:  140644467356448 -> 140644467357288 -> 140644467357792 -> 140644467357736 -> 140644467357960\n",
      "common:  140644467357792\n",
      "res:  140644467357792\n",
      "True\n",
      "--------------------------------------------------\n",
      "sll1:  140644467358408 -> 140644467356448 -> 140644467357232\n",
      "sll2:  140644467358016 -> 140644467356504 -> 140644467358184 -> 140644467358128 -> 140644467356448 -> 140644467357232\n",
      "common:  140644467356448\n",
      "res:  140644467356448\n",
      "True\n",
      "--------------------------------------------------\n",
      "2/2\n",
      "All passed\n"
     ]
    }
   ],
   "source": [
    "test(test_lists, intersection3)"
   ]
  },
  {
   "cell_type": "code",
   "execution_count": null,
   "metadata": {},
   "outputs": [],
   "source": []
  }
 ],
 "metadata": {
  "kernelspec": {
   "display_name": "Python 3",
   "language": "python",
   "name": "python3"
  },
  "language_info": {
   "codemirror_mode": {
    "name": "ipython",
    "version": 3
   },
   "file_extension": ".py",
   "mimetype": "text/x-python",
   "name": "python",
   "nbconvert_exporter": "python",
   "pygments_lexer": "ipython3",
   "version": "3.7.1"
  }
 },
 "nbformat": 4,
 "nbformat_minor": 2
}
